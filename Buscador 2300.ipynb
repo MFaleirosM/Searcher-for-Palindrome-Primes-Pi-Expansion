{
 "cells": [
  {
   "cell_type": "markdown",
   "id": "d7ad5a50",
   "metadata": {},
   "source": [
    "### 23+ digits"
   ]
  },
  {
   "cell_type": "code",
   "execution_count": 9,
   "id": "83dc4084",
   "metadata": {},
   "outputs": [],
   "source": [
    "import time"
   ]
  },
  {
   "cell_type": "code",
   "execution_count": 10,
   "id": "a5b56133",
   "metadata": {},
   "outputs": [],
   "source": [
    "def captura_21(Pi_expansion):\n",
    "    m = 4*10**9\n",
    "    st = time.time()\n",
    "    for i in range(0,m):\n",
    "        if  Pi_expansion[i] == Pi_expansion[i+20] and \\\n",
    "            Pi_expansion[i+1] == Pi_expansion[i+19] and \\\n",
    "            Pi_expansion[i+2] == Pi_expansion[i+18] and \\\n",
    "            Pi_expansion[i+3] == Pi_expansion[i+17] and \\\n",
    "            Pi_expansion[i+4] == Pi_expansion[i+16] and \\\n",
    "            Pi_expansion[i+5] == Pi_expansion[i+15] and \\\n",
    "            Pi_expansion[i+6] == Pi_expansion[i+14] and \\\n",
    "            Pi_expansion[i+7] == Pi_expansion[i+13] and \\\n",
    "            Pi_expansion[i+8] == Pi_expansion[i+12] and \\\n",
    "            Pi_expansion[i+9] == Pi_expansion[i+11]:\n",
    "            candidate = 0\n",
    "            for k in range(0,21):\n",
    "                candidate += int(Pi_expansion[i+k])*10**k\n",
    "            print()\n",
    "            print('**********************   CANDIDATO   **********************')\n",
    "            print(int(Pi_expansion[i-1]), int(Pi_expansion[i-2]),int(Pi_expansion[i-3]),int(Pi_expansion[i-4]))\n",
    "            print(candidate)\n",
    "            print(int(Pi_expansion[i+21]), int(Pi_expansion[i+22]),int(Pi_expansion[i+23]),int(Pi_expansion[i+24]))\n",
    "            print('position 1: {0}'.format(i+1))\n",
    "            print('************************************************************')\n",
    "            #if is_prime(candidate) == True:\n",
    "             #   print('BINGO!')\n",
    "              #  et = time.time()\n",
    "               # elapsed_time = et - st\n",
    "               # print('Execution time:', elapsed_time/60, 'min')\n",
    "               # with open('primo_23_encontrado.txt', 'w') as f:\n",
    "                #    f.write(str(candidate))\n",
    "                #return True \n",
    "    et = time.time()\n",
    "    elapsed_time = et - st\n",
    "    print('Execution time:', elapsed_time/60, 'min')\n",
    "    print()\n",
    "    print()"
   ]
  },
  {
   "cell_type": "code",
   "execution_count": 11,
   "id": "fff13015",
   "metadata": {},
   "outputs": [],
   "source": [
    "lista = [ '0.txt', '1.txt', \\\n",
    "          '2.txt', '3.txt', \\\n",
    "          '4.txt', '5.txt']"
   ]
  },
  {
   "cell_type": "code",
   "execution_count": 12,
   "id": "2ebf706e",
   "metadata": {},
   "outputs": [],
   "source": [
    "Pi_expansion = ''"
   ]
  },
  {
   "cell_type": "code",
   "execution_count": null,
   "id": "30574d09",
   "metadata": {},
   "outputs": [
    {
     "name": "stdout",
     "output_type": "stream",
     "text": [
      "Tempo de leitura do 2200 .txt: 70.0064103603363 segundos\n",
      "Execution time: 22.87190978129705 min\n",
      "\n",
      "\n",
      "Tempo de leitura do 2205 .txt: 73.20190691947937 segundos\n",
      "Execution time: 23.570311029752094 min\n",
      "\n",
      "\n",
      "Tempo de leitura do 2210 .txt: 70.12328863143921 segundos\n"
     ]
    }
   ],
   "source": [
    "j = -1\n",
    "Pi_expansion = ''\n",
    "for path in lista:\n",
    "    j += 1\n",
    "    with open(path, 'r') as arquivo:\n",
    "        st = time.time()\n",
    "        Pi_expansion = ''\n",
    "        Pi_expansion = arquivo.read()\n",
    "        et = time.time()\n",
    "        elapsed_time = et - st\n",
    "        print('Tempo de leitura do 2000 + {0}'.format(j), '.txt:', elapsed_time, 'segundos')  \n",
    "        if captura_21(Pi_expansion) == True:\n",
    "            break\n",
    "        arquivo.close()\n",
    "Pi_expansion = ''"
   ]
  },
  {
   "cell_type": "code",
   "execution_count": 7,
   "id": "e4274ba8",
   "metadata": {},
   "outputs": [],
   "source": [
    "def captura_21_last(Pi_expansion):\n",
    "    m = 4*10**9-21\n",
    "    st = time.time()\n",
    "    for i in range(0,m):\n",
    "        if  Pi_expansion[i] == Pi_expansion[i+20] and \\\n",
    "            Pi_expansion[i+1] == Pi_expansion[i+19] and \\\n",
    "            Pi_expansion[i+2] == Pi_expansion[i+18] and \\\n",
    "            Pi_expansion[i+3] == Pi_expansion[i+17] and \\\n",
    "            Pi_expansion[i+4] == Pi_expansion[i+16] and \\\n",
    "            Pi_expansion[i+5] == Pi_expansion[i+15] and \\\n",
    "            Pi_expansion[i+6] == Pi_expansion[i+14] and \\\n",
    "            Pi_expansion[i+7] == Pi_expansion[i+13] and \\\n",
    "            Pi_expansion[i+8] == Pi_expansion[i+12] and \\\n",
    "            Pi_expansion[i+9] == Pi_expansion[i+11]:\n",
    "            candidate = 0\n",
    "            for k in range(0,21):\n",
    "                candidate += int(Pi_expansion[i+k])*10**k\n",
    "            print()\n",
    "            print('**********************   CANDIDATO   **********************')\n",
    "            print(int(Pi_expansion[i-1]), int(Pi_expansion[i-2]),int(Pi_expansion[i-3]),int(Pi_expansion[i-4]))\n",
    "            print(candidate)\n",
    "            print(int(Pi_expansion[i+21]), int(Pi_expansion[i+22]),int(Pi_expansion[i+23]),int(Pi_expansion[i+24]))\n",
    "            print('position 1: {0}'.format(i+1))\n",
    "            print('************************************************************')\n",
    "            #if is_prime(candidate) == True:\n",
    "             #   print('BINGO!')\n",
    "              #  et = time.time()\n",
    "               # elapsed_time = et - st\n",
    "               # print('Execution time:', elapsed_time/60, 'min')\n",
    "               # with open('primo_23_encontrado.txt', 'w') as f:\n",
    "                #    f.write(str(candidate))\n",
    "                #return True \n",
    "    et = time.time()\n",
    "    elapsed_time = et - st\n",
    "    print('Execution time:', elapsed_time/60, 'min')\n",
    "    print()\n",
    "    print()"
   ]
  },
  {
   "cell_type": "code",
   "execution_count": 8,
   "id": "d3abe145",
   "metadata": {},
   "outputs": [],
   "source": [
    "lista_last = ['24.txt']"
   ]
  },
  {
   "cell_type": "code",
   "execution_count": 9,
   "id": "487330a3",
   "metadata": {
    "collapsed": true
   },
   "outputs": [
    {
     "name": "stdout",
     "output_type": "stream",
     "text": [
      "Tempo de leitura do 1695 .txt: 87.08820843696594 segundos\n",
      "Execution time: 19.02347400188446 min\n",
      "\n",
      "\n"
     ]
    }
   ],
   "source": [
    "Pi_expansion = ''\n",
    "for path in lista:\n",
    "    with open(path, 'r') as arquivo:\n",
    "        st = time.time()\n",
    "        Pi_expansion = ''\n",
    "        Pi_expansion = arquivo.read()\n",
    "        et = time.time()\n",
    "        elapsed_time = et - st\n",
    "        print('Tempo de leitura do 2000 + 24 .txt:', elapsed_time, 'segundos')  \n",
    "        if captura_21_last(Pi_expansion) == True:\n",
    "            break\n",
    "        arquivo.close()\n",
    "Pi_expansion = ''"
   ]
  },
  {
   "cell_type": "markdown",
   "id": "457ab9d2",
   "metadata": {},
   "source": [
    "# \n",
    "\n",
    "\n"
   ]
  }
 ],
 "metadata": {
  "kernelspec": {
   "display_name": "Python 3 (ipykernel)",
   "language": "python",
   "name": "python3"
  },
  "language_info": {
   "codemirror_mode": {
    "name": "ipython",
    "version": 3
   },
   "file_extension": ".py",
   "mimetype": "text/x-python",
   "name": "python",
   "nbconvert_exporter": "python",
   "pygments_lexer": "ipython3",
   "version": "3.9.7"
  }
 },
 "nbformat": 4,
 "nbformat_minor": 5
}
